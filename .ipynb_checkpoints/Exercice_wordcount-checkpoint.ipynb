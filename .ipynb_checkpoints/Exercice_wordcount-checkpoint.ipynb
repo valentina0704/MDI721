{
 "cells": [
  {
   "cell_type": "code",
   "execution_count": null,
   "metadata": {},
   "outputs": [],
   "source": [
    "def word_count_file_dict (filename):\n",
    "    \n",
    "    \"\"\"This is an utility function that reads a file\n",
    "    and builds and returns a word/count dict for it.\"\"\"\n",
    "    #this create the list l1 made by all the word in the file filename\n",
    "    with open(filename, \"r\") as f:\n",
    "            l=[]\n",
    "            for line in f:\n",
    "                for w in line.split():\n",
    "                    l.append(w)\n",
    "    d=dict()\n",
    "    for word in l:\n",
    "        #assign to the key \"word\" the value \"# of ocuurencies of the word\"+ 1, so if word is not in d1\n",
    "        # the value is 0 \n",
    "        d[word.lower()] = d.get(word.lower(), 0)+1\n",
    "    return d   "
   ]
  },
  {
   "cell_type": "code",
   "execution_count": null,
   "metadata": {},
   "outputs": [],
   "source": [
    "def print_words(filename):\n",
    "    \"\"\"This sorts the keys in order and prints word , # of cuurrencies \"\"\"\n",
    "    d=word_count_file_dict(filename)\n",
    "    #this creates a list of tuples, ordered by the first element, meaning the key of the dictionary\n",
    "    words=sorted(d.items(), key = lambda x : x[0])\n",
    "   \n",
    "    for word in words:\n",
    "        print(word[0], word[1])"
   ]
  },
  {
   "cell_type": "code",
   "execution_count": null,
   "metadata": {},
   "outputs": [],
   "source": [
    "def print_top(filename):\n",
    "    \"\"\"The function print_top(filename) prints word , wordscount[word], but just the top 20 most common words sorted\n",
    "    so the most common word is first, then the next most common, and so on.\"\"\"\n",
    "\n",
    "    \n",
    "    d=word_count_file_dict(filename)\n",
    "    dsortedvalues=sorted(d.items(), key = lambda x : x[1], reverse=True)\n",
    "    for i in dsortedvalues[:20]:\n",
    "        print(i[0], i[1])    "
   ]
  },
  {
   "cell_type": "code",
   "execution_count": null,
   "metadata": {},
   "outputs": [],
   "source": []
  },
  {
   "cell_type": "code",
   "execution_count": null,
   "metadata": {},
   "outputs": [],
   "source": []
  },
  {
   "cell_type": "code",
   "execution_count": null,
   "metadata": {},
   "outputs": [],
   "source": []
  }
 ],
 "metadata": {
  "kernelspec": {
   "display_name": "Python 3",
   "language": "python",
   "name": "python3"
  },
  "language_info": {
   "codemirror_mode": {
    "name": "ipython",
    "version": 3
   },
   "file_extension": ".py",
   "mimetype": "text/x-python",
   "name": "python",
   "nbconvert_exporter": "python",
   "pygments_lexer": "ipython3",
   "version": "3.7.6"
  }
 },
 "nbformat": 4,
 "nbformat_minor": 4
}
