{
 "cells": [
  {
   "cell_type": "code",
   "execution_count": 1,
   "metadata": {},
   "outputs": [],
   "source": [
    "def word_count_file_dict (filename):\n",
    "    \n",
    "    \"\"\"This is an utility function that reads a file\n",
    "    and builds and returns a word/count dict for it.\"\"\"\n",
    "    \n",
    "    \n",
    "            \n",
    "    d=dict()\n",
    "    with open(filename, \"r\") as f:\n",
    "        for line in f:\n",
    "            for w in line.split():\n",
    "                    #assign to the key \"w\" the value \"# of occurencies of the word\"+ 1, so if word is not in d\n",
    "                    # the value is 0 +1\n",
    "                d[w.lower()] = d.get(w.lower(), 0)+1\n",
    "    return d   "
   ]
  },
  {
   "cell_type": "code",
   "execution_count": 2,
   "metadata": {},
   "outputs": [],
   "source": [
    "def print_words(filename):\n",
    "    \"\"\"This sorts the keys in order and prints word , # of cuurrencies \"\"\"\n",
    "    d=word_count_file_dict(filename)\n",
    "    #this creates a list of tuples, ordered by the first element, meaning the key of the dictionary\n",
    "    words=sorted(d.items(), key = lambda x : x[0])\n",
    "   \n",
    "    for word in words:\n",
    "        print(word[0], word[1])"
   ]
  },
  {
   "cell_type": "code",
   "execution_count": 3,
   "metadata": {},
   "outputs": [],
   "source": [
    "def print_top(filename):\n",
    "    \"\"\"The function print_top(filename) prints word , wordscount[word], but just the top 20 most common words sorted\n",
    "    so the most common word is first, then the next most common, and so on.\"\"\"\n",
    "\n",
    "    \n",
    "    d=word_count_file_dict(filename)\n",
    "    dsortedvalues=sorted(d.items(), key = lambda x : x[1], reverse=True)\n",
    "    for i in dsortedvalues[:20]:\n",
    "        print(i[0], i[1])    "
   ]
  },
  {
   "cell_type": "code",
   "execution_count": null,
   "metadata": {},
   "outputs": [],
   "source": []
  },
  {
   "cell_type": "code",
   "execution_count": null,
   "metadata": {},
   "outputs": [],
   "source": []
  },
  {
   "cell_type": "code",
   "execution_count": null,
   "metadata": {},
   "outputs": [],
   "source": []
  }
 ],
 "metadata": {
  "kernelspec": {
   "display_name": "Python 3",
   "language": "python",
   "name": "python3"
  },
  "language_info": {
   "codemirror_mode": {
    "name": "ipython",
    "version": 3
   },
   "file_extension": ".py",
   "mimetype": "text/x-python",
   "name": "python",
   "nbconvert_exporter": "python",
   "pygments_lexer": "ipython3",
   "version": "3.7.6"
  }
 },
 "nbformat": 4,
 "nbformat_minor": 4
}
