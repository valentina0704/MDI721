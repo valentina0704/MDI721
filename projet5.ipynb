{
 "cells": [
  {
   "cell_type": "markdown",
   "metadata": {},
   "source": [
    "# Projet maison n° 5"
   ]
  },
  {
   "cell_type": "markdown",
   "metadata": {},
   "source": [
    "On s'intéresse au fichier sur la Couverture 2G, 3G, 4G en France par opérateur de juillet 2015 fourni par l'ARCEP : \"couverture-2g-3g-4g-en-france-par-operateur-juillet-2015.csv\".\n",
    "\n",
    "[°] Ce fichier donne le taux de couverture par commune, par opérateur (Orange France, Bouygues Telecom, SFR, Free Mobile, Tout Opérateur), par type de couverture (Couverture population, Couverture surfacique) et par réseau (2G, 3G, 4G).\n",
    "\n",
    "1. Chargez le fichier dans un DataFrame.\n",
    "2. Transformez ce DataFrame large en un DataFrame long en isolant les colonnes d'identification d'une part et les colonnes de valeurs de couverture d'autre part.\n",
    "3. Rajoutez 3 colonnes \"Opérateur\", \"Type Couverture\" et \"Réseau\" calculées à partir de la colonne \"variable\" obtenue en 2 (utilisez les valeurs indiquées entre parenthèses ci-dessus [°]).\n",
    "4. A partir de ce DataFrame, obtenez un objet de type Series dont les valeurs correspondent à la colonne \"value\" obtenue en 2 et dont le multi-index contient les autres colonnes du DataFrame sauf la colonne \"variable\" obtenue en 2. Puis remontez les index \"Opérateur\", \"Type Couverture\" et \"Réseau\" en colonnes multi-indexées. Vous devez obtenir un DataFrame avec 7 niveaux d'index et 3 niveaux de colonnes.\n",
    "5. Chargez le DataFrame des communes déjà utilisé (\"correspondance-code-insee-code-postal.csv\") et effectuez une jointure sur le code INSEE avec le DataFrame obtenu en 3.\n",
    "6. Pour le réseau 4G et la couverture surfacique, calculez la moyenne des couvertures par statut de commune et par opérateur. Pour quel couple (statut, opérateur) a-t-on la moyenne de la couverture la plus faible ?"
   ]
  },
  {
   "cell_type": "code",
   "execution_count": 1,
   "metadata": {},
   "outputs": [],
   "source": [
    "# import\n",
    "import pandas as pd"
   ]
  },
  {
   "cell_type": "code",
   "execution_count": 2,
   "metadata": {},
   "outputs": [],
   "source": [
    "# 1) Chargez le fichier dans un DataFrame\n",
    "def load_data():\n",
    "  \n",
    "    df = pd.read_csv('couverture-2g-3g-4g-en-france-par-operateur-juillet-2015.csv', sep=';')\n",
    "    return df"
   ]
  },
  {
   "cell_type": "code",
   "execution_count": 4,
   "metadata": {},
   "outputs": [],
   "source": [
    "# 2) Transformez ce DataFrame large en un DataFrame long\n",
    "def data_wide2long():\n",
    "    df = pd.DataFrame()\n",
    "    df = load_data()\n",
    "    df = pd.melt(df, id_vars=list(df.columns[0:6]) + list(df.columns[-1:]), value_vars=list(df.columns[6:-1]))\n",
    "    return df"
   ]
  },
  {
   "cell_type": "code",
   "execution_count": 10,
   "metadata": {},
   "outputs": [],
   "source": [
    "# 3) Rajoutez 3 colonnes \"Opérateur\", \"Type Couverture\" et \"Réseau\"\n",
    "def data_add3columns():\n",
    "    \n",
    "    def operator(x):\n",
    "        if x.startswith(\"S\"):\n",
    "            x = x.split()\n",
    "            x = x[0]\n",
    "             \n",
    "        elif x.startswith(\"P\"):\n",
    "            x = x.split()\n",
    "            x = \"Tout Opérateur\"\n",
    "        else:\n",
    "            x = x.split()\n",
    "            x = x[0:2]\n",
    "            x = ' '.join([str(elem) for elem in x]) \n",
    "        return x \n",
    "\n",
    "\n",
    "    def coverture(x):\n",
    "    \n",
    "        x = x.split()\n",
    "        x = x[-3:-1]\n",
    "        x = ' '.join([str(elem) for elem in x]) \n",
    "        return x \n",
    "    df = pd.DataFrame(columns=['Opérateur', 'Type Couverture', 'Réseau'])\n",
    "    df = data_wide2long()\n",
    "    df['Opérateur']=df[\"variable\"].apply(lambda x: operator(x))\n",
    "    df['Réseau']=df[\"variable\"].apply(lambda x: x[-2:])\n",
    "    df[\"Type Couverture\"]= df[\"variable\"].apply(lambda x: coverture(x))\n",
    "    return df"
   ]
  },
  {
   "cell_type": "code",
   "execution_count": 11,
   "metadata": {},
   "outputs": [],
   "source": [
    "# 4) Transformez ce DataFrame en multi-index\n",
    "def data_multi_index():\n",
    "    df = pd.DataFrame()\n",
    "    \n",
    "    return df"
   ]
  },
  {
   "cell_type": "code",
   "execution_count": 12,
   "metadata": {},
   "outputs": [],
   "source": [
    "# 5) Effectuez une jointure sur le code INSEE\n",
    "def data_join_geo():\n",
    "    df = pd.DataFrame()\n",
    "    return df"
   ]
  },
  {
   "cell_type": "code",
   "execution_count": 13,
   "metadata": {},
   "outputs": [],
   "source": [
    "# 6) Pour quel couple (statut, opérateur) a-t-on la moyenne de la couverture la plus faible ?\n",
    "def data_get_worst_statut_operateur():\n",
    "    worst_statut_operateur = ('Statut', 'Opérateur')\n",
    "    return worst_statut_operateur"
   ]
  },
  {
   "cell_type": "code",
   "execution_count": 14,
   "metadata": {},
   "outputs": [],
   "source": [
    "import unittest\n",
    "\n",
    "class Lesson5Tests(unittest.TestCase):\n",
    "    \n",
    "    def test_01_load_data(self):\n",
    "        df = load_data()\n",
    "        # test shape\n",
    "        self.assertEqual(df.shape, (36594, 37))\n",
    "        \n",
    "    def test_02_data_wide2long(self):\n",
    "        df = data_wide2long()\n",
    "        # test shape\n",
    "        self.assertEqual(df.shape, (1097820, 9))\n",
    "        \n",
    "    def test_03_data_add3columns(self):\n",
    "        df = data_add3columns()\n",
    "        # test \"Opérateur\" values\n",
    "        s1 = set(df['Opérateur'].unique())\n",
    "        s2 = set(['Orange France', 'Bouygues Telecom', 'SFR', 'Free Mobile', 'Tout Opérateur'])\n",
    "        self.assertSetEqual(s1, s2)\n",
    "        # test \"Type Couverture\" values\n",
    "        s1 = set(df['Type Couverture'].unique())\n",
    "        s2 = set(['Couverture population', 'Couverture surfacique'])\n",
    "        self.assertSetEqual(s1, s2)\n",
    "        # test \"Réseau\" values\n",
    "        s1 = set(df['Réseau'].unique())\n",
    "        s2 = set(['2G', '3G', '4G'])\n",
    "        self.assertSetEqual(s1, s2)\n",
    "        \n",
    "    def test_04_data_multi_index(self):\n",
    "        df = data_multi_index()\n",
    "        # test shape\n",
    "        self.assertEqual(df.shape, (36594, 30))\n",
    "        # test multi-index de l'index\n",
    "        self.assertEqual(len(df.index.levels), 7)\n",
    "        # test multi-index des columns\n",
    "        self.assertEqual(len(df.columns.levels), 3)\n",
    "        \n",
    "    def test_05_data_join_geo(self):\n",
    "        df = data_join_geo()\n",
    "        # test length\n",
    "        self.assertEqual(len(df), 1097820)\n",
    "        \n",
    "    def test_06_data_get_worst_statut_operateur(self):\n",
    "        statut_operateur = data_get_worst_statut_operateur()\n",
    "        # test length\n",
    "        self.assertEqual(statut_operateur, ('Commune simple', 'Free Mobile'))\n"
   ]
  },
  {
   "cell_type": "code",
   "execution_count": 15,
   "metadata": {},
   "outputs": [
    {
     "name": "stderr",
     "output_type": "stream",
     "text": [
      "test_01_load_data (__main__.Lesson5Tests) ... ok\n",
      "test_02_data_wide2long (__main__.Lesson5Tests) ... ok\n",
      "test_03_data_add3columns (__main__.Lesson5Tests) ... ok\n",
      "test_04_data_multi_index (__main__.Lesson5Tests) ... FAIL\n",
      "test_05_data_join_geo (__main__.Lesson5Tests) ... FAIL\n",
      "test_06_data_get_worst_statut_operateur (__main__.Lesson5Tests) ... FAIL\n",
      "\n",
      "======================================================================\n",
      "FAIL: test_04_data_multi_index (__main__.Lesson5Tests)\n",
      "----------------------------------------------------------------------\n",
      "Traceback (most recent call last):\n",
      "  File \"<ipython-input-14-be1dc84de558>\", line 33, in test_04_data_multi_index\n",
      "    self.assertEqual(df.shape, (36594, 30))\n",
      "AssertionError: Tuples differ: (0, 0) != (36594, 30)\n",
      "\n",
      "First differing element 0:\n",
      "0\n",
      "36594\n",
      "\n",
      "- (0, 0)\n",
      "+ (36594, 30)\n",
      "\n",
      "======================================================================\n",
      "FAIL: test_05_data_join_geo (__main__.Lesson5Tests)\n",
      "----------------------------------------------------------------------\n",
      "Traceback (most recent call last):\n",
      "  File \"<ipython-input-14-be1dc84de558>\", line 42, in test_05_data_join_geo\n",
      "    self.assertEqual(len(df), 1097820)\n",
      "AssertionError: 0 != 1097820\n",
      "\n",
      "======================================================================\n",
      "FAIL: test_06_data_get_worst_statut_operateur (__main__.Lesson5Tests)\n",
      "----------------------------------------------------------------------\n",
      "Traceback (most recent call last):\n",
      "  File \"<ipython-input-14-be1dc84de558>\", line 47, in test_06_data_get_worst_statut_operateur\n",
      "    self.assertEqual(statut_operateur, ('Commune simple', 'Free Mobile'))\n",
      "AssertionError: Tuples differ: ('Statut', 'Opérateur') != ('Commune simple', 'Free Mobile')\n",
      "\n",
      "First differing element 0:\n",
      "'Statut'\n",
      "'Commune simple'\n",
      "\n",
      "- ('Statut', 'Opérateur')\n",
      "+ ('Commune simple', 'Free Mobile')\n",
      "\n",
      "----------------------------------------------------------------------\n",
      "Ran 6 tests in 4.914s\n",
      "\n",
      "FAILED (failures=3)\n"
     ]
    },
    {
     "data": {
      "text/plain": [
       "<unittest.runner.TextTestResult run=6 errors=0 failures=3>"
      ]
     },
     "execution_count": 15,
     "metadata": {},
     "output_type": "execute_result"
    }
   ],
   "source": [
    "# run tests\n",
    "test_suite = unittest.makeSuite(Lesson5Tests)\n",
    "runner = unittest.TextTestRunner(verbosity=2)\n",
    "runner.run(test_suite)"
   ]
  },
  {
   "cell_type": "code",
   "execution_count": null,
   "metadata": {},
   "outputs": [],
   "source": []
  },
  {
   "cell_type": "code",
   "execution_count": null,
   "metadata": {},
   "outputs": [],
   "source": []
  }
 ],
 "metadata": {
  "kernelspec": {
   "display_name": "Python 3",
   "language": "python",
   "name": "python3"
  },
  "language_info": {
   "codemirror_mode": {
    "name": "ipython",
    "version": 3
   },
   "file_extension": ".py",
   "mimetype": "text/x-python",
   "name": "python",
   "nbconvert_exporter": "python",
   "pygments_lexer": "ipython3",
   "version": "3.7.6"
  }
 },
 "nbformat": 4,
 "nbformat_minor": 4
}
